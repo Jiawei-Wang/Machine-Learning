{
 "cells": [
  {
   "cell_type": "markdown",
   "metadata": {},
   "source": [
    "# Project 01 "
   ]
  },
  {
   "cell_type": "markdown",
   "metadata": {},
   "source": [
    "## Jiawei Wang\n",
    "## 3/8/2020"
   ]
  },
  {
   "cell_type": "markdown",
   "metadata": {},
   "source": [
    "### Part One: Logistic Regression for Digit Classification"
   ]
  },
  {
   "cell_type": "code",
   "execution_count": 2,
   "metadata": {},
   "outputs": [
    {
     "name": "stderr",
     "output_type": "stream",
     "text": [
      "/home/jiawei/anaconda3/envs/machinelearning/lib/python3.8/site-packages/sklearn/utils/deprecation.py:144: FutureWarning: The sklearn.utils.testing module is  deprecated in version 0.22 and will be removed in version 0.24. The corresponding classes / functions should instead be imported from sklearn.utils. Anything that cannot be imported from sklearn.utils is now part of the private API.\n",
      "  warnings.warn(message, FutureWarning)\n"
     ]
    }
   ],
   "source": [
    "# import libraries\n",
    "\n",
    "import os\n",
    "import numpy as np\n",
    "import pandas as pd\n",
    "\n",
    "import sklearn.linear_model\n",
    "import sklearn.tree\n",
    "import sklearn.metrics as metrics\n",
    "import scipy\n",
    "\n",
    "from matplotlib import pyplot as plt\n",
    "from sklearn.linear_model import LogisticRegression\n",
    "from sklearn import model_selection\n",
    "\n",
    "from sklearn.utils.testing import ignore_warnings\n",
    "from sklearn.exceptions import ConvergenceWarning\n",
    "from scipy import stats\n",
    "from scipy.special import boxcox1p\n",
    "from scipy.ndimage.filters import gaussian_filter\n",
    "\n",
    "import seaborn as sns"
   ]
  },
  {
   "cell_type": "code",
   "execution_count": 2,
   "metadata": {},
   "outputs": [],
   "source": [
    "# load dataset\n",
    "\n",
    "x_train = np.loadtxt('./data_digits_8_vs_9_noisy/x_train.csv', delimiter=',', skiprows=1)\n",
    "x_test = np.loadtxt('./data_digits_8_vs_9_noisy/x_test.csv', delimiter=',', skiprows=1)\n",
    "y_train = np.loadtxt('./data_digits_8_vs_9_noisy/y_train.csv', delimiter=',', skiprows=1)\n",
    "y_test = np.loadtxt('./data_digits_8_vs_9_noisy/y_test.csv', delimiter=',', skiprows=1)"
   ]
  },
  {
   "cell_type": "markdown",
   "metadata": {},
   "source": [
    "### 1.1 Iterations vs Accuracy and Log Loss "
   ]
  },
  {
   "cell_type": "code",
   "execution_count": 3,
   "metadata": {},
   "outputs": [],
   "source": [
    "@ignore_warnings(category=ConvergenceWarning)\n",
    "def log_reg_iterations_vs_accuracy(input_set, output_set):\n",
    "    ''' \n",
    "    Performs logistic regression on 28*28 data \n",
    "    \n",
    "    Args\n",
    "    ----\n",
    "    input_set: 28*28 data representing a noisy digit image\n",
    "    output_set: 1D array representing 0 (if digit is 8), or 1, if digit is 9\n",
    "\n",
    "    \n",
    "    Returns\n",
    "    -------\n",
    "    iterations_v_score: 2D list containing an array representing the num of iterations, and another respective\n",
    "    array representing the score() (accuracy) of the model to be plotted.\n",
    "    \n",
    "    '''\n",
    "    \n",
    "    iteration = []\n",
    "    score_list = []\n",
    "    iterations_v_score = []\n",
    "    for i in range(1, 41):\n",
    "        logreg = LogisticRegression(solver='liblinear', max_iter = i)\n",
    "        logreg.fit(input_set, output_set)\n",
    "        sc = logreg.score(input_set, output_set)\n",
    "        iteration.append(i)\n",
    "        score_list.append(sc)\n",
    "    iterations_v_score.append(iteration)\n",
    "    iterations_v_score.append(score_list)\n",
    "    return iterations_v_score\n",
    "\n",
    "\n",
    "@ignore_warnings(category=ConvergenceWarning)\n",
    "def log_reg_iterations_vs_logloss(input_set, output_set):\n",
    "    ''' \n",
    "    Performs logistic regression on 28*28 data \n",
    "       \n",
    "    Args\n",
    "    ----\n",
    "    input_set: 28*28 data representing a noisy digit image\n",
    "    output_set: 1D array representing 0 (if digit is 8), or 1, if digit is 9\n",
    "\n",
    "    \n",
    "    Returns\n",
    "    -------\n",
    "    iterations_v_score: 2D list containing an array representing the num of iterations, and another respective\n",
    "    array representing the logloss of the model to be plotted.\n",
    "    \n",
    "    '''\n",
    "    iteration = []\n",
    "    logloss_list = []\n",
    "    iterations_v_logloss = []\n",
    "    for i in range(1, 41):\n",
    "        logreg = LogisticRegression(solver='liblinear', max_iter = i)\n",
    "        logreg.fit(input_set, output_set)\n",
    "        prob_float = logreg.predict_proba(input_set)\n",
    "        logloss = metrics.log_loss(output_set, prob_float)\n",
    "        iteration.append(i)\n",
    "        logloss_list.append(logloss)\n",
    "    iterations_v_logloss.append(iteration)\n",
    "    iterations_v_logloss.append(logloss_list)\n",
    "    return iterations_v_logloss"
   ]
  },
  {
   "cell_type": "code",
   "execution_count": 4,
   "metadata": {},
   "outputs": [
    {
     "data": {
      "image/png": "[encoded data removed]",
      "text/plain": [
       "<Figure size 432x288 with 1 Axes>"
      ]
     },
     "metadata": {
      "needs_background": "light"
     },
     "output_type": "display_data"
    }
   ],
   "source": [
    "# iteration vs accuracy\n",
    "iter_v_acc = log_reg_iterations_vs_accuracy(x_train, y_train)\n",
    "\n",
    "plt.xlabel('Number of iterations)');\n",
    "plt.ylabel('Accuracy');\n",
    "plt.plot(iter_v_acc[0], iter_v_acc[1]);\n",
    "savefig('sample.pdf')"
   ]
  },
  {
   "cell_type": "code",
   "execution_count": 7,
   "metadata": {},
   "outputs": [
    {
     "data": {
      "image/png": "[encoded data removed]",
      "text/plain": [
       "<Figure size 432x288 with 1 Axes>"
      ]
     },
     "metadata": {
      "needs_background": "light"
     },
     "output_type": "display_data"
    }
   ],
   "source": [
    "# iterations vs log loss\n",
    "iter_v_logloss = log_reg_iterations_vs_logloss(x_train, y_train)\n",
    "\n",
    "plt.xlabel('Number of iterations)');\n",
    "plt.ylabel('Log loss');\n",
    "plt.plot(iter_v_logloss[0], iter_v_logloss[1], color=\"red\");"
   ]
  },
  {
   "cell_type": "markdown",
   "metadata": {},
   "source": [
    "### 1.2 Iterations vs Weight"
   ]
  },
  {
   "cell_type": "code",
   "execution_count": 8,
   "metadata": {},
   "outputs": [],
   "source": [
    "@ignore_warnings(category=ConvergenceWarning)\n",
    "def log_reg_iterations_vs_initial_weight(input_set, output_set):\n",
    "    ''' \n",
    "    Performs logistic regression on 784 feature data\n",
    "       \n",
    "    Args\n",
    "    ----\n",
    "    input_set: 784 feature set representing a noisy digit image\n",
    "    output_set: 1D array representing 0 (if digit is 8), or 1, if digit is 9\n",
    "\n",
    "    \n",
    "    Returns\n",
    "    -------\n",
    "    iterations_v_weight: 2D list containing an array representing the num of iterations, and another respective\n",
    "    array representing the first weight, that of the feature 'pixel000' in the input data\n",
    "    \n",
    "    '''\n",
    "    iteration = []\n",
    "    first_weight = []\n",
    "    iterations_v_firstweight = []\n",
    "    for i in range(1, 41):\n",
    "        logreg = LogisticRegression(solver='liblinear', max_iter = i)\n",
    "        logreg.fit(input_set, output_set)\n",
    "        coef = logreg.coef_[0][0]\n",
    "        iteration.append(i)\n",
    "        first_weight.append(coef)\n",
    "    iterations_v_firstweight.append(iteration)\n",
    "    iterations_v_firstweight.append(first_weight)\n",
    "    return iterations_v_firstweight"
   ]
  },
  {
   "cell_type": "code",
   "execution_count": 14,
   "metadata": {},
   "outputs": [
    {
     "data": {
      "image/png": "[encoded data removed]",
      "text/plain": [
       "<Figure size 432x288 with 1 Axes>"
      ]
     },
     "metadata": {
      "needs_background": "light"
     },
     "output_type": "display_data"
    }
   ],
   "source": [
    "# Number of iterations vs first initial feature\n",
    "iterations_v_firstweight = log_reg_iterations_vs_initial_weight(x_train, y_train)\n",
    "\n",
    "plt.xlabel('Number of iterations');\n",
    "plt.ylabel('First weight (pixel1000)');\n",
    "plt.plot(iterations_v_firstweight[0], iterations_v_firstweight[1], color=\"Blue\");"
   ]
  },
  {
   "cell_type": "markdown",
   "metadata": {},
   "source": [
    "### 1.3 Inverse Penalty and the Best Model"
   ]
  },
  {
   "cell_type": "code",
   "execution_count": 22,
   "metadata": {},
   "outputs": [
    {
     "name": "stdout",
     "output_type": "stream",
     "text": [
      "1.0\n",
      "Best C-value for LR with 2-feature data: 0.032\n",
      "The minimum log loss is 0.08968955643903709.\n",
      "The corresponding inverse penalty value is 0.03162277660168379.\n",
      "The corresponding accuracy value is 0.9808474576271187.\n",
      "Predicted    0    1\n",
      "True               \n",
      "0          942   32\n",
      "1           33  976\n"
     ]
    }
   ],
   "source": [
    "def calc_confusion_matrix_for_threshold(ytrue_N, yproba1_N, thresh):\n",
    "    ''' \n",
    "    Compute the confusion matrix for a given probabilistic classifier and threshold\n",
    "    \n",
    "    Args\n",
    "    ----\n",
    "    ytrue_N : 1D array of floats\n",
    "        Each entry represents the binary value (0 or 1) of 'true' label of one example\n",
    "        One entry per example in current dataset\n",
    "    yproba1_N : 1D array of floats\n",
    "        Each entry represents a probability (between 0 and 1) that correct label is positive (1)\n",
    "        One entry per example in current dataset\n",
    "        Needs to be same size as ytrue_N\n",
    "    thresh : float\n",
    "        Scalar threshold for converting probabilities into hard decisions\n",
    "        Calls an example \"positive\" if yproba1 >= thresh\n",
    "\n",
    "    Returns\n",
    "    -------\n",
    "    cm_df : Pandas DataFrame\n",
    "        Can be printed like print(cm_df) to easily display results\n",
    "    '''\n",
    "    cm = sklearn.metrics.confusion_matrix(ytrue_N, yproba1_N >= thresh)\n",
    "    cm_df = pd.DataFrame(data=cm, columns=[0, 1], index=[0, 1])\n",
    "    cm_df.columns.name = 'Predicted'\n",
    "    cm_df.index.name = 'True'\n",
    "    return cm_df\n",
    "\n",
    "@ignore_warnings(category=ConvergenceWarning)\n",
    "def log_reg_inverse_penalty(input_set, output_set, test_set, y_true):\n",
    "    ''' \n",
    "    Performs logistic regression on 784 feature data\n",
    "       \n",
    "    Args\n",
    "    ----\n",
    "    input_set: 784 feature input data representing digits 8 or 9\n",
    "    output_set: 1D array representing 0 (if digit is 8), or 1, if digit is 9\n",
    "\n",
    "    Returns\n",
    "    -------\n",
    "    stdout: inverse penalty value that gives least log-loss on test set, accuracy score of the model, and confusion\n",
    "    matrix\n",
    "    cm_df: dataframe containing confusion matrix for best model (with greatest accuracy given an inverse penalty value c)\n",
    "    '''\n",
    "    C_grid = np.logspace(-9, 6, 31)\n",
    "    loss_list = []\n",
    "    c_list = []\n",
    "    score_list = []\n",
    "    for c in C_grid:\n",
    "        logreg = LogisticRegression(C=c, solver='liblinear')\n",
    "        logreg.fit(input_set, output_set)\n",
    "        prob_float = logreg.predict_proba(test_set)\n",
    "        logloss = metrics.log_loss(y_true, prob_float)\n",
    "        loss_list.append(logloss)\n",
    "        c_list.append(c)\n",
    "        score_list.append(logreg.score(input_set, output_set))\n",
    "    \n",
    "    least_log_loss = min(loss_list)\n",
    "    corresponding_c_val = c_list[loss_list.index(min(loss_list))]\n",
    "    corresponding_score = score_list[loss_list.index(min(loss_list))]\n",
    "    \n",
    "    logreg = LogisticRegression(C=corresponding_c_val, solver='liblinear')\n",
    "    logreg.fit(input_set, output_set)\n",
    "    coef = logreg.coef_[0]\n",
    "    y_pred_actual = logreg.predict(test_set)\n",
    "    print(y_pred_actual[0])\n",
    "    \n",
    "    f_n = []\n",
    "    f_p = []\n",
    "    for i in range(len(y_true)):\n",
    "        if y_true[i] != y_pred_actual[i] and y_true[i] == 0.0:\n",
    "            f_p.append(np.asarray(input_set[i]))\n",
    "            \n",
    "    for i in range(len(y_true)):\n",
    "        if y_true[i] != y_pred_actual[i] and y_true[i] == 1.0:\n",
    "            f_n.append(np.asarray(input_set[i]))\n",
    "            \n",
    "    f_p = f_p[:9]\n",
    "    f_n = f_n[:9]\n",
    "    \n",
    "    print(\"Best C-value for LR with 2-feature data: %.3f\" % C_grid[np.argmin(loss_list)])\n",
    "    print(\"The minimum log loss is \" + str(least_log_loss) + \".\")\n",
    "    print(\"The corresponding inverse penalty value is \" + str(corresponding_c_val) + \".\")\n",
    "    print(\"The corresponding accuracy value is \" + str(corresponding_score) + \".\")  \n",
    "            \n",
    "    cm = sklearn.metrics.confusion_matrix(y_true, y_pred_actual)\n",
    "    cm_df = pd.DataFrame(data=cm, columns=[0, 1], index=[0, 1])\n",
    "    cm_df.columns.name = 'Predicted'\n",
    "    cm_df.index.name = 'True'\n",
    "    return cm_df, f_p, f_n, coef\n",
    "\n",
    "    \n",
    "result_inv_penalty = log_reg_inverse_penalty(x_train, y_train, x_test, y_test)\n",
    "print(result_inv_penalty[0])"
   ]
  },
  {
   "cell_type": "markdown",
   "metadata": {},
   "source": [
    "### 1.4 Printing False Negatives and False Positives for Best Value of Inverse Penalty On Logistic Regression Models"
   ]
  },
  {
   "cell_type": "code",
   "execution_count": 21,
   "metadata": {},
   "outputs": [
    {
     "data": {
      "text/plain": [
       "<matplotlib.image.AxesImage at 0x7fe3db8fb4c0>"
      ]
     },
     "execution_count": 21,
     "metadata": {},
     "output_type": "execute_result"
    },
    {
     "data": {
      "image/png": "[encoded data removed]",
      "text/plain": [
       "<Figure size 432x288 with 9 Axes>"
      ]
     },
     "metadata": {
      "needs_background": "light"
     },
     "output_type": "display_data"
    }
   ],
   "source": [
    "def reshape_arr(arr):\n",
    "    array = np.zeros([28, 28])\n",
    "    count  = 0\n",
    "    for i in range(len(array)):\n",
    "        for j in range(len(array[i])):\n",
    "            element = arr[count]\n",
    "            array[i][j] = element\n",
    "            count+=1\n",
    "    return array\n",
    "\n",
    "def reshape_all(arr):\n",
    "    ret = []\n",
    "    for i in arr:\n",
    "        i = reshape_arr(i)\n",
    "        ret.append(i)\n",
    "    return ret\n",
    "\n",
    "fp_data = reshape_all(result_inv_penalty[1])\n",
    "\n",
    "# False Positives\n",
    "fig = plt.figure()\n",
    "ax1 = fig.add_subplot(3,3,1)\n",
    "ax1.imshow(fp_data[0], cmap='Greys', vmin=0.0, vmax=1.0)\n",
    "ax2 = fig.add_subplot(3,3,2)\n",
    "ax2.imshow(fp_data[1], cmap='Greys', vmin=0.0, vmax=1.0)\n",
    "ax3 = fig.add_subplot(3,3,3)\n",
    "ax3.imshow(fp_data[2], cmap='Greys', vmin=0.0, vmax=1.0)\n",
    "ax4 = fig.add_subplot(3,3,4)\n",
    "ax4.imshow(fp_data[3], cmap='Greys', vmin=0.0, vmax=1.0)\n",
    "ax5 = fig.add_subplot(3,3,5)\n",
    "ax5.imshow(fp_data[4], cmap='Greys', vmin=0.0, vmax=1.0)\n",
    "ax6 = fig.add_subplot(3,3,6)\n",
    "ax6.imshow(fp_data[5], cmap='Greys', vmin=0.0, vmax=1.0)\n",
    "ax7 = fig.add_subplot(3,3,7)\n",
    "ax7.imshow(fp_data[6], cmap='Greys', vmin=0.0, vmax=1.0)\n",
    "ax8 = fig.add_subplot(3,3,8)\n",
    "ax8.imshow(fp_data[7], cmap='Greys', vmin=0.0, vmax=1.0)\n",
    "ax9 = fig.add_subplot(3,3,9)\n",
    "ax9.imshow(fp_data[8], cmap='Greys', vmin=0.0, vmax=1.0)"
   ]
  },
  {
   "cell_type": "code",
   "execution_count": 22,
   "metadata": {},
   "outputs": [
    {
     "data": {
      "text/plain": [
       "<matplotlib.image.AxesImage at 0x7fe3e9423fd0>"
      ]
     },
     "execution_count": 22,
     "metadata": {},
     "output_type": "execute_result"
    },
    {
     "data": {
      "image/png": "[encoded data removed]",
      "text/plain": [
       "<Figure size 432x288 with 9 Axes>"
      ]
     },
     "metadata": {
      "needs_background": "light"
     },
     "output_type": "display_data"
    }
   ],
   "source": [
    "fn_data = reshape_all(result_inv_penalty[2])\n",
    "\n",
    "# False Negatives\n",
    "fig1 = plt.figure()\n",
    "ax1 = fig1.add_subplot(3,3,1)\n",
    "ax1.imshow(fn_data[0], cmap='Greys', vmin=0.0, vmax=1.0)\n",
    "ax2 = fig1.add_subplot(3,3,2)\n",
    "ax2.imshow(fn_data[1], cmap='Greys', vmin=0.0, vmax=1.0)\n",
    "ax3 = fig1.add_subplot(3,3,3)\n",
    "ax3.imshow(fn_data[2], cmap='Greys', vmin=0.0, vmax=1.0)\n",
    "ax4 = fig1.add_subplot(3,3,4)\n",
    "ax4.imshow(fn_data[3], cmap='Greys', vmin=0.0, vmax=1.0)\n",
    "ax5 = fig1.add_subplot(3,3,5)\n",
    "ax5.imshow(fn_data[4], cmap='Greys', vmin=0.0, vmax=1.0)\n",
    "ax6 = fig1.add_subplot(3,3,6)\n",
    "ax6.imshow(fn_data[5], cmap='Greys', vmin=0.0, vmax=1.0)\n",
    "ax7 = fig1.add_subplot(3,3,7)\n",
    "ax7.imshow(fn_data[6], cmap='Greys', vmin=0.0, vmax=1.0)\n",
    "ax8 = fig1.add_subplot(3,3,8)\n",
    "ax8.imshow(fn_data[7], cmap='Greys', vmin=0.0, vmax=1.0)\n",
    "ax9 = fig1.add_subplot(3,3,9)\n",
    "ax9.imshow(fn_data[8], cmap='Greys', vmin=0.0, vmax=1.0)"
   ]
  },
  {
   "cell_type": "markdown",
   "metadata": {},
   "source": [
    "### 1.5 Plotting Weights of Best Model (Determined by Inverse Penalty) on a 28 x 28 Grid (Dimensions of Images) "
   ]
  },
  {
   "cell_type": "code",
   "execution_count": 23,
   "metadata": {},
   "outputs": [
    {
     "data": {
      "text/plain": [
       "<matplotlib.image.AxesImage at 0x7fe3e831e6d0>"
      ]
     },
     "execution_count": 23,
     "metadata": {},
     "output_type": "execute_result"
    },
    {
     "data": {
      "image/png": "[encoded data removed]",
      "text/plain": [
       "<Figure size 432x288 with 1 Axes>"
      ]
     },
     "metadata": {
      "needs_background": "light"
     },
     "output_type": "display_data"
    }
   ],
   "source": [
    "coefficients = result_inv_penalty[3]\n",
    "coefficients = reshape_arr(coefficients)\n",
    "\n",
    "# Image Representation of Weights\n",
    "plt.imshow(coefficients, cmap='RdYlBu', vmin=-0.5, vmax=0.5)"
   ]
  },
  {
   "cell_type": "code",
   "execution_count": 24,
   "metadata": {},
   "outputs": [
    {
     "data": {
      "text/plain": [
       "<matplotlib.image.AxesImage at 0x7fe3e828a430>"
      ]
     },
     "execution_count": 24,
     "metadata": {},
     "output_type": "execute_result"
    },
    {
     "data": {
      "image/png": "[encoded data removed]",
      "text/plain": [
       "<Figure size 432x288 with 1 Axes>"
      ]
     },
     "metadata": {
      "needs_background": "light"
     },
     "output_type": "display_data"
    }
   ],
   "source": [
    "arr = [[0]]\n",
    "#0.5=blue\n",
    "#-0.5=red\n",
    "#0 =yellow\n",
    "plt.imshow(arr, cmap='RdYlBu', vmin=-0.5, vmax=0.5)"
   ]
  },
  {
   "cell_type": "markdown",
   "metadata": {},
   "source": [
    "### Part Two: Sneakers vs Sandals"
   ]
  },
  {
   "cell_type": "code",
   "execution_count": 3,
   "metadata": {},
   "outputs": [],
   "source": [
    "# load dataset\n",
    "x_tr_footwear = np.loadtxt('./data_sneaker_vs_sandal/x_train.csv', delimiter=',', skiprows=1)\n",
    "x_te_footwear = np.loadtxt('./data_sneaker_vs_sandal/x_test.csv', delimiter=',', skiprows=1)\n",
    "y_tr_footwear = np.loadtxt('./data_sneaker_vs_sandal/y_train.csv', delimiter=',', skiprows=1)"
   ]
  },
  {
   "cell_type": "code",
   "execution_count": 9,
   "metadata": {},
   "outputs": [],
   "source": [
    "@ignore_warnings(category=ConvergenceWarning)\n",
    "def log_reg_iterations_vs_accuracy(input_set, output_set):\n",
    "    \n",
    "    iteration = []\n",
    "    score_list = []\n",
    "    iterations_v_score = []\n",
    "    for i in range(1, 20):\n",
    "        logreg = LogisticRegression(solver='liblinear', max_iter = i)\n",
    "        logreg.fit(input_set, output_set)\n",
    "        sc = logreg.score(input_set, output_set)\n",
    "        iteration.append(i)\n",
    "        score_list.append(sc)\n",
    "    iterations_v_score.append(iteration)\n",
    "    iterations_v_score.append(score_list)\n",
    "    return iterations_v_score\n",
    "\n",
    "\n",
    "@ignore_warnings(category=ConvergenceWarning)\n",
    "def log_reg_iterations_vs_logloss(input_set, output_set):\n",
    "    ''' \n",
    "    Performs logistic regression on 28*28 data \n",
    "       \n",
    "    Args\n",
    "    ----\n",
    "    input_set: 28*28 data representing a noisy digit image\n",
    "    output_set: 1D array representing 0 (if digit is 8), or 1, if digit is 9\n",
    "\n",
    "    \n",
    "    Returns\n",
    "    -------\n",
    "    iterations_v_score: 2D list containing an array representing the num of iterations, and another respective\n",
    "    array representing the logloss of the model to be plotted.\n",
    "    \n",
    "    '''\n",
    "    iteration = []\n",
    "    logloss_list = []\n",
    "    iterations_v_logloss = []\n",
    "    for i in range(1, 20):\n",
    "        logreg = LogisticRegression(solver='liblinear', max_iter = i)\n",
    "        logreg.fit(input_set, output_set)\n",
    "        prob_float = logreg.predict_proba(input_set)\n",
    "        logloss = metrics.log_loss(output_set, prob_float)\n",
    "        iteration.append(i)\n",
    "        logloss_list.append(logloss)\n",
    "    iterations_v_logloss.append(iteration)\n",
    "    iterations_v_logloss.append(logloss_list)\n",
    "    return iterations_v_logloss\n",
    "\n"
   ]
  },
  {
   "cell_type": "code",
   "execution_count": 10,
   "metadata": {},
   "outputs": [
    {
     "data": {
      "image/png": "[encoded data removed]",
      "text/plain": [
       "<Figure size 432x288 with 1 Axes>"
      ]
     },
     "metadata": {
      "needs_background": "light"
     },
     "output_type": "display_data"
    }
   ],
   "source": [
    "# iteration vs accuracy\n",
    "iter_v_acc = log_reg_iterations_vs_accuracy(x_tr_footwear, y_tr_footwear)\n",
    "\n",
    "plt.xlabel('Number of iterations');\n",
    "plt.ylabel('Accuracy');\n",
    "plt.plot(iter_v_acc[0], iter_v_acc[1]);"
   ]
  },
  {
   "cell_type": "code",
   "execution_count": 13,
   "metadata": {},
   "outputs": [
    {
     "data": {
      "image/png": "[encoded data removed]",
      "text/plain": [
       "<Figure size 432x288 with 1 Axes>"
      ]
     },
     "metadata": {
      "needs_background": "light"
     },
     "output_type": "display_data"
    }
   ],
   "source": [
    "# iterations vs log loss\n",
    "iter_v_logloss = log_reg_iterations_vs_logloss(x_tr_footwear, y_tr_footwear)\n",
    "\n",
    "plt.xlabel('Number of iterations');\n",
    "plt.ylabel('Log loss');\n",
    "plt.plot(iter_v_logloss[0], iter_v_logloss[1], color=\"red\");"
   ]
  },
  {
   "cell_type": "markdown",
   "metadata": {},
   "source": [
    "### 2.1 Logistic Regression Model (No parameter tuning or feature augmentation)"
   ]
  },
  {
   "cell_type": "code",
   "execution_count": 16,
   "metadata": {},
   "outputs": [
    {
     "name": "stdout",
     "output_type": "stream",
     "text": [
      "CPU times: user 1.1 s, sys: 15.9 ms, total: 1.12 s\n",
      "Wall time: 1.09 s\n"
     ]
    }
   ],
   "source": [
    "%%time\n",
    "# Write up: What feature transformations tried, and what processes you used to build the classifier\n",
    "# (parameters that were tried).\n",
    "\n",
    "# Examples of feature transformations: \n",
    "    # - use histograms/parts of the data\n",
    "    # - consider adding features that count overall number of white or black pixels\n",
    "    # - consider adding features that capture spacial patterns in original data\n",
    "    # - data augmentation (flipping data horizontally/vertically)\n",
    "\n",
    "# Work should contain at least two figures comparing results gotten by doing nothing (just using the original paremeters, no)\n",
    "# future tuning, and with stuff that I tried.\n",
    "\n",
    "# Discussion should include error rate on testing data for various models \n",
    "    # - each time you run a model, submit the results to the gradescope thing to get an error rate\n",
    "    \n",
    "# Error Rate: 0.04249999999999998\n",
    "# AUROC: 0.9932420000000001\n",
    "@ignore_warnings(category=ConvergenceWarning)\n",
    "def logreg_no_tuning(input_set, output_set, test_set):\n",
    "    ''' Performs logistic regression on 784 feature data representing sneaker/sandal image\n",
    "       \n",
    "    Args\n",
    "    ----\n",
    "    input_set: 784 feature set representing some form of shoeware\n",
    "    output_set: 1D array representing 0 (if image is a sneaker), or 1, if image is a sandal\n",
    "\n",
    "    \n",
    "    Returns\n",
    "    -------\n",
    "    stdout - yproba1_test.txt represents one probability value per line, per example in x_test.csv determining\n",
    "    the probability that a feature set represents a sneaker (class label = 0) or sandal (class label = 1)\n",
    "    \n",
    "    '''\n",
    "    logreg = LogisticRegression(solver='liblinear')\n",
    "    logreg.fit(input_set, output_set)\n",
    "    prob_float = logreg.predict_proba(test_set)[:, 1]\n",
    "    np.savetxt('yproba1_test.txt', prob_float)\n",
    "\n",
    "logreg_no_tuning(x_tr_footwear, y_tr_footwear, x_te_footwear)"
   ]
  },
  {
   "cell_type": "markdown",
   "metadata": {},
   "source": [
    "### 2.2 Data Augmentation I: Flipping Images and Multiplying Training Set by 2X"
   ]
  },
  {
   "cell_type": "code",
   "execution_count": 17,
   "metadata": {},
   "outputs": [
    {
     "name": "stdout",
     "output_type": "stream",
     "text": [
      "CPU times: user 3.13 s, sys: 36.1 ms, total: 3.17 s\n",
      "Wall time: 3.13 s\n"
     ]
    }
   ],
   "source": [
    "%%time\n",
    "def add_horizontal_flip_input(input_set):\n",
    "    result = []\n",
    "    for element in input_set:\n",
    "        result.append(element)\n",
    "    for element in input_set:\n",
    "        new_element = np.flipud(element) \n",
    "        result.append(new_element)\n",
    "    return np.array(result)\n",
    "\n",
    "def add_horizontal_flip_output(output_set):\n",
    "    result = []\n",
    "    for element in output_set:\n",
    "        result.append(element)\n",
    "    for element in output_set:\n",
    "        result.append(element)\n",
    "    return np.array(result)\n",
    "    \n",
    "x_tr_footwear_h = add_horizontal_flip_input(x_tr_footwear)\n",
    "y_tr_footwear_h = add_horizontal_flip_output(y_tr_footwear)\n",
    "\n",
    "# Error Rate: 0.05300000000000005 \n",
    "# AUROC: 0.98663\n",
    "def logreg_data_aug_h(input_set, output_set, test_set):\n",
    "    ''' Performs logistic regression on 784 feature data (flipped) representing sneaker/sandal image\n",
    "       \n",
    "    Args\n",
    "    ----\n",
    "    input_set: 784 feature set representing some form of shoeware\n",
    "    output_set: 1D array representing 0 (if image is a sneaker), or 1, if image is a sandal\n",
    "\n",
    "    \n",
    "    Returns\n",
    "    -------\n",
    "    stdout - yproba1_test.txt represents one probability value per line, per example in x_test.csv determining\n",
    "    the probability that a feature set represents a sneaker (class label = 0) or sandal (class label = 1)\n",
    "    \n",
    "    '''\n",
    "    logreg = LogisticRegression(solver='liblinear')\n",
    "    logreg.fit(input_set, output_set)\n",
    "    prob_float = logreg.predict_proba(test_set)[:, 1]\n",
    "    np.savetxt('yproba1_test.txt', prob_float)\n",
    "\n",
    "logreg_data_aug_h(x_tr_footwear_h, y_tr_footwear_h, x_te_footwear)"
   ]
  },
  {
   "cell_type": "code",
   "execution_count": 18,
   "metadata": {},
   "outputs": [],
   "source": [
    "### 2.3 Data Augmentation II: Gaussian Transformation"
   ]
  },
  {
   "cell_type": "code",
   "execution_count": 26,
   "metadata": {},
   "outputs": [
    {
     "name": "stdout",
     "output_type": "stream",
     "text": [
      "CPU times: user 1min 13s, sys: 47.8 ms, total: 1min 13s\n",
      "Wall time: 1min 13s\n"
     ]
    }
   ],
   "source": [
    "%%time\n",
    "def reshape_arr(arr):\n",
    "    array = np.zeros([28, 28])\n",
    "    count  = 0\n",
    "    for i in range(len(array)):\n",
    "        for j in range(len(array[i])):\n",
    "            element = arr[count]\n",
    "            array[i][j] = element\n",
    "            count+=1\n",
    "    return array\n",
    "\n",
    "\n",
    "def gaussian_transform(input_set):\n",
    "    result = []\n",
    "    for element in input_set:\n",
    "        result.append(element)\n",
    "    for element in input_set:\n",
    "        new_element = reshape_arr(element)\n",
    "        gaussian_apply = gaussian_filter(new_element, 784)\n",
    "        res_element = gaussian_apply.flatten()\n",
    "        result.append(res_element)\n",
    "    return np.array(result)\n",
    "\n",
    "def gaussian_output(output_set):\n",
    "    result = []\n",
    "    for element in output_set:\n",
    "        result.append(element)\n",
    "    for element in output_set:\n",
    "        result.append(element)\n",
    "    return np.array(result)\n",
    "\n",
    "x_tr_footwear_g = gaussian_transform(x_tr_footwear)\n",
    "y_tr_footwear_g = gaussian_output(y_tr_footwear)\n",
    "\n",
    "# Error Rate:  \n",
    "# AUROC: \n",
    "def logreg_data_aug_g(input_set, output_set, test_set):\n",
    "    ''' Performs logistic regression on 784 feature data (gaussian transformed)\n",
    "       \n",
    "    Args\n",
    "    ----\n",
    "    input_set: 784 feature set representing some form of shoeware\n",
    "    output_set: 1D array representing 0 (if image is a sneaker), or 1, if image is a sandal\n",
    "\n",
    "    \n",
    "    Returns\n",
    "    -------\n",
    "    stdout - yproba1_test.txt represents one probability value per line, per example in x_test.csv determining\n",
    "    the probability that a feature set represents a sneaker (class label = 0) or sandal (class label = 1)\n",
    "    \n",
    "    '''\n",
    "    logreg = LogisticRegression(solver='liblinear')\n",
    "    logreg.fit(input_set, output_set)\n",
    "    prob_float = logreg.predict_proba(test_set)[:, 1]\n",
    "    np.savetxt('yproba1_test.txt', prob_float)\n",
    "\n",
    "logreg_data_aug_h(x_tr_footwear_g, y_tr_footwear_g, x_te_footwear)\n"
   ]
  },
  {
   "cell_type": "markdown",
   "metadata": {},
   "source": [
    "### 2.4 Box-Cox Transformation on Input Set"
   ]
  },
  {
   "cell_type": "code",
   "execution_count": 20,
   "metadata": {},
   "outputs": [
    {
     "name": "stdout",
     "output_type": "stream",
     "text": [
      "CPU times: user 2.05 s, sys: 31.9 ms, total: 2.08 s\n",
      "Wall time: 1.16 s\n"
     ]
    }
   ],
   "source": [
    "%%time\n",
    "def box_cox_transform(input_set):\n",
    "    transformed = boxcox1p(input_set, 0.25)\n",
    "    return transformed\n",
    "    \n",
    "x_tr_footwear_boxcox = box_cox_transform(x_tr_footwear)\n",
    "\n",
    "# Error Rate: 0.040000000000000036\n",
    "# AUROC: 0.994132\n",
    "def logreg_boxcox(input_set, output_set, test_set):\n",
    "    ''' Performs logistic regression on 784 feature data (normalized using Box-Cox) representing sneaker/sandal image\n",
    "       \n",
    "    Args\n",
    "    ----\n",
    "    input_set: 784 feature set representing some form of shoeware\n",
    "    output_set: 1D array representing 0 (if image is a sneaker), or 1, if image is a sandal\n",
    "\n",
    "    \n",
    "    Returns\n",
    "    -------\n",
    "    stdout - yproba1_test.txt represents one probability value per line, per example in x_test.csv determining\n",
    "    the probability that a feature set represents a sneaker (class label = 0) or sandal (class label = 1)\n",
    "    \n",
    "    '''\n",
    "    logreg = LogisticRegression(solver='liblinear')\n",
    "    logreg.fit(input_set, output_set)\n",
    "    prob_float = logreg.predict_proba(box_cox_transform(test_set))[:, 1]\n",
    "    np.savetxt('yproba1_test.txt', prob_float)\n",
    "\n",
    "logreg_boxcox(x_tr_footwear_boxcox, y_tr_footwear, x_te_footwear)"
   ]
  },
  {
   "cell_type": "markdown",
   "metadata": {},
   "source": [
    "2.5 Box-Cox Transformation on Flipped Input Set"
   ]
  },
  {
   "cell_type": "code",
   "execution_count": 21,
   "metadata": {},
   "outputs": [
    {
     "name": "stdout",
     "output_type": "stream",
     "text": [
      "CPU times: user 4.68 s, sys: 71.8 ms, total: 4.75 s\n",
      "Wall time: 3.82 s\n"
     ]
    }
   ],
   "source": [
    "%%time\n",
    "# Error Rate: 0.05449999999999999\n",
    "# AUROC: 0.988159\n",
    "\n",
    "x_tr_footwear_h1 = add_horizontal_flip_input(x_tr_footwear)\n",
    "y_tr_footwear_h1 = add_horizontal_flip_output(y_tr_footwear)\n",
    "\n",
    "def logreg_boxcox_flipped(input_set, output_set, test_set):\n",
    "    ''' Performs logistic regression on 784 feature data (normalized using Box-Cox, and flipped) \n",
    "    representing sneaker/sandal image\n",
    "       \n",
    "    Args\n",
    "    ----\n",
    "    input_set: 784 feature set representing some form of shoeware\n",
    "    output_set: 1D array representing 0 (if image is a sneaker), or 1, if image is a sandal\n",
    "\n",
    "    \n",
    "    Returns\n",
    "    -------\n",
    "    stdout - yproba1_test.txt represents one probability value per line, per example in x_test.csv determining\n",
    "    the probability that a feature set represents a sneaker (class label = 0) or sandal (class label = 1)\n",
    "    \n",
    "    '''\n",
    "    logreg = LogisticRegression(solver='liblinear')\n",
    "    logreg.fit(input_set, output_set)\n",
    "    prob_float = logreg.predict_proba(box_cox_transform(test_set))[:, 1]\n",
    "    np.savetxt('yproba1_test.txt', prob_float)\n",
    "\n",
    "logreg_boxcox_flipped(box_cox_transform(x_tr_footwear_h1), y_tr_footwear_h1, x_te_footwear)"
   ]
  },
  {
   "cell_type": "markdown",
   "metadata": {},
   "source": [
    "### 2.6 Splitting Test and Train Sets (2:1)"
   ]
  },
  {
   "cell_type": "code",
   "execution_count": 27,
   "metadata": {},
   "outputs": [
    {
     "name": "stdout",
     "output_type": "stream",
     "text": [
      "CPU times: user 721 ms, sys: 31.8 ms, total: 753 ms\n",
      "Wall time: 723 ms\n"
     ]
    }
   ],
   "source": [
    "%%time\n",
    "# Error Rate: 0.03949999999999998\n",
    "# AUROC: 0.993793\n",
    "def logreg_split_2_1(input_set, output_set, test_set):\n",
    "    ''' Performs logistic regression on 784 feature data using 66% of input_set as training data, and the rest of \n",
    "    the 33% as the test data\n",
    "       \n",
    "    Args\n",
    "    ----\n",
    "    input_set: 784 feature set representing some form of shoeware\n",
    "    output_set: 1D array representing 0 (if image is a sneaker), or 1, if image is a sandal\n",
    "\n",
    "    \n",
    "    Returns\n",
    "    -------\n",
    "    stdout - yproba1_test.txt represents one probability value per line, per example in x_test.csv determining\n",
    "    the probability that a feature set represents a sneaker (class label = 0) or sandal (class label = 1)\n",
    "    \n",
    "    '''\n",
    "    test_size = 0.33 #2:1 split\n",
    "    seed = 7 #for reproducibility\n",
    "    X_train, X_test, Y_train, Y_test = model_selection.train_test_split(input_set, output_set, test_size=test_size, random_state=seed)\n",
    "    logreg = LogisticRegression(solver='liblinear')\n",
    "    logreg.fit(X_train, Y_train)\n",
    "    prob_float = logreg.predict_proba(test_set)[:, 1]\n",
    "    np.savetxt('yproba2_test.txt', prob_float)\n",
    "    \n",
    "logreg_split_2_1(x_tr_footwear, y_tr_footwear, x_te_footwear)"
   ]
  },
  {
   "cell_type": "markdown",
   "metadata": {},
   "source": [
    "### 2.7 K-Fold Cross Validation"
   ]
  },
  {
   "cell_type": "code",
   "execution_count": 29,
   "metadata": {},
   "outputs": [
    {
     "name": "stderr",
     "output_type": "stream",
     "text": [
      "/home/jiawei/anaconda3/envs/machinelearning/lib/python3.8/site-packages/sklearn/model_selection/_split.py:292: FutureWarning: Setting a random_state has no effect since shuffle is False. This will raise an error in 0.24. You should leave random_state to its default (None), or set shuffle=True.\n",
      "  warnings.warn(\n"
     ]
    },
    {
     "name": "stdout",
     "output_type": "stream",
     "text": [
      "CPU times: user 11.2 s, sys: 216 ms, total: 11.4 s\n",
      "Wall time: 11.4 s\n"
     ]
    }
   ],
   "source": [
    "%%time\n",
    "# Error Rate: 0.04249999999999998\n",
    "# AUROC: 0.993114\n",
    "def logreg_k_fold(input_set, output_set, test_set):\n",
    "    ''' Performs logistic regression on 784 feature data using k-fold cross validation\n",
    "       \n",
    "    Args\n",
    "    ----\n",
    "    input_set: 784 feature set representing some form of shoeware\n",
    "    output_set: 1D array representing 0 (if image is a sneaker), or 1, if image is a sandal\n",
    "\n",
    "    \n",
    "    Returns\n",
    "    -------\n",
    "    stdout - yproba1_test.txt represents one probability value per line, per example in x_test.csv determining\n",
    "    the probability that a feature set represents a sneaker (class label = 0) or sandal (class label = 1)\n",
    "    \n",
    "    '''\n",
    "    seed = 7 #for reproducibility\n",
    "    scores = []\n",
    "    log_reg = LogisticRegression(solver='liblinear')\n",
    "    kfold = model_selection.KFold(n_splits=10, random_state=seed)\n",
    "    for train_index, test_index in kfold.split(input_set):\n",
    "        X_train, X_test, y_train, y_test = input_set[train_index], input_set[test_index], output_set[train_index], output_set[test_index]\n",
    "        log_reg.fit(X_train, y_train)    \n",
    "    prob_float = log_reg.predict_proba(test_set)[:, 1]\n",
    "    np.savetxt('yproba1_test.txt', prob_float)\n",
    "\n",
    "logreg_k_fold(x_tr_footwear, y_tr_footwear, x_te_footwear)"
   ]
  },
  {
   "cell_type": "markdown",
   "metadata": {},
   "source": [
    "### 2.8 Parameter Tuning - {\"C:1\", \"multi_class:\"ovr\", \"penalty\":\"l1\"}"
   ]
  },
  {
   "cell_type": "code",
   "execution_count": 24,
   "metadata": {},
   "outputs": [
    {
     "ename": "ValueError",
     "evalue": "Solver lbfgs supports only 'l2' or 'none' penalties, got l1 penalty.",
     "output_type": "error",
     "traceback": [
      "\u001b[0;31m---------------------------------------------------------------------------\u001b[0m",
      "\u001b[0;31mValueError\u001b[0m                                Traceback (most recent call last)",
      "\u001b[0;32m<ipython-input-24-5e066b95db7a>\u001b[0m in \u001b[0;36m<module>\u001b[0;34m\u001b[0m\n\u001b[1;32m     20\u001b[0m     \u001b[0mnp\u001b[0m\u001b[0;34m.\u001b[0m\u001b[0msavetxt\u001b[0m\u001b[0;34m(\u001b[0m\u001b[0;34m'yproba1_test_param.txt'\u001b[0m\u001b[0;34m,\u001b[0m \u001b[0mprob_float\u001b[0m\u001b[0;34m)\u001b[0m\u001b[0;34m\u001b[0m\u001b[0;34m\u001b[0m\u001b[0m\n\u001b[1;32m     21\u001b[0m \u001b[0;34m\u001b[0m\u001b[0m\n\u001b[0;32m---> 22\u001b[0;31m \u001b[0mlogreg_param_tune\u001b[0m\u001b[0;34m(\u001b[0m\u001b[0mx_tr_footwear\u001b[0m\u001b[0;34m,\u001b[0m \u001b[0my_tr_footwear\u001b[0m\u001b[0;34m,\u001b[0m \u001b[0mx_te_footwear\u001b[0m\u001b[0;34m)\u001b[0m\u001b[0;34m\u001b[0m\u001b[0;34m\u001b[0m\u001b[0m\n\u001b[0m",
      "\u001b[0;32m<ipython-input-24-5e066b95db7a>\u001b[0m in \u001b[0;36mlogreg_param_tune\u001b[0;34m(input_set, output_set, test_set)\u001b[0m\n\u001b[1;32m     16\u001b[0m     '''\n\u001b[1;32m     17\u001b[0m     \u001b[0mlog_reg\u001b[0m \u001b[0;34m=\u001b[0m \u001b[0mLogisticRegression\u001b[0m\u001b[0;34m(\u001b[0m\u001b[0mC\u001b[0m\u001b[0;34m=\u001b[0m\u001b[0;36m1\u001b[0m\u001b[0;34m,\u001b[0m \u001b[0mmulti_class\u001b[0m\u001b[0;34m=\u001b[0m\u001b[0;34m'ovr'\u001b[0m\u001b[0;34m,\u001b[0m \u001b[0mpenalty\u001b[0m\u001b[0;34m=\u001b[0m\u001b[0;34m'l1'\u001b[0m\u001b[0;34m)\u001b[0m\u001b[0;34m\u001b[0m\u001b[0;34m\u001b[0m\u001b[0m\n\u001b[0;32m---> 18\u001b[0;31m     \u001b[0mlog_reg\u001b[0m\u001b[0;34m.\u001b[0m\u001b[0mfit\u001b[0m\u001b[0;34m(\u001b[0m\u001b[0minput_set\u001b[0m\u001b[0;34m,\u001b[0m \u001b[0moutput_set\u001b[0m\u001b[0;34m)\u001b[0m\u001b[0;34m\u001b[0m\u001b[0;34m\u001b[0m\u001b[0m\n\u001b[0m\u001b[1;32m     19\u001b[0m     \u001b[0mprob_float\u001b[0m \u001b[0;34m=\u001b[0m \u001b[0mlog_reg\u001b[0m\u001b[0;34m.\u001b[0m\u001b[0mpredict_proba\u001b[0m\u001b[0;34m(\u001b[0m\u001b[0mtest_set\u001b[0m\u001b[0;34m)\u001b[0m\u001b[0;34m[\u001b[0m\u001b[0;34m:\u001b[0m\u001b[0;34m,\u001b[0m \u001b[0;36m1\u001b[0m\u001b[0;34m]\u001b[0m\u001b[0;34m\u001b[0m\u001b[0;34m\u001b[0m\u001b[0m\n\u001b[1;32m     20\u001b[0m     \u001b[0mnp\u001b[0m\u001b[0;34m.\u001b[0m\u001b[0msavetxt\u001b[0m\u001b[0;34m(\u001b[0m\u001b[0;34m'yproba1_test_param.txt'\u001b[0m\u001b[0;34m,\u001b[0m \u001b[0mprob_float\u001b[0m\u001b[0;34m)\u001b[0m\u001b[0;34m\u001b[0m\u001b[0;34m\u001b[0m\u001b[0m\n",
      "\u001b[0;32m~/anaconda3/envs/machinelearning/lib/python3.8/site-packages/sklearn/linear_model/_logistic.py\u001b[0m in \u001b[0;36mfit\u001b[0;34m(self, X, y, sample_weight)\u001b[0m\n\u001b[1;32m   1486\u001b[0m         \u001b[0mThe\u001b[0m \u001b[0mSAGA\u001b[0m \u001b[0msolver\u001b[0m \u001b[0msupports\u001b[0m \u001b[0mboth\u001b[0m \u001b[0mfloat64\u001b[0m \u001b[0;32mand\u001b[0m \u001b[0mfloat32\u001b[0m \u001b[0mbit\u001b[0m \u001b[0marrays\u001b[0m\u001b[0;34m.\u001b[0m\u001b[0;34m\u001b[0m\u001b[0;34m\u001b[0m\u001b[0m\n\u001b[1;32m   1487\u001b[0m         \"\"\"\n\u001b[0;32m-> 1488\u001b[0;31m         \u001b[0msolver\u001b[0m \u001b[0;34m=\u001b[0m \u001b[0m_check_solver\u001b[0m\u001b[0;34m(\u001b[0m\u001b[0mself\u001b[0m\u001b[0;34m.\u001b[0m\u001b[0msolver\u001b[0m\u001b[0;34m,\u001b[0m \u001b[0mself\u001b[0m\u001b[0;34m.\u001b[0m\u001b[0mpenalty\u001b[0m\u001b[0;34m,\u001b[0m \u001b[0mself\u001b[0m\u001b[0;34m.\u001b[0m\u001b[0mdual\u001b[0m\u001b[0;34m)\u001b[0m\u001b[0;34m\u001b[0m\u001b[0;34m\u001b[0m\u001b[0m\n\u001b[0m\u001b[1;32m   1489\u001b[0m \u001b[0;34m\u001b[0m\u001b[0m\n\u001b[1;32m   1490\u001b[0m         \u001b[0;32mif\u001b[0m \u001b[0;32mnot\u001b[0m \u001b[0misinstance\u001b[0m\u001b[0;34m(\u001b[0m\u001b[0mself\u001b[0m\u001b[0;34m.\u001b[0m\u001b[0mC\u001b[0m\u001b[0;34m,\u001b[0m \u001b[0mnumbers\u001b[0m\u001b[0;34m.\u001b[0m\u001b[0mNumber\u001b[0m\u001b[0;34m)\u001b[0m \u001b[0;32mor\u001b[0m \u001b[0mself\u001b[0m\u001b[0;34m.\u001b[0m\u001b[0mC\u001b[0m \u001b[0;34m<\u001b[0m \u001b[0;36m0\u001b[0m\u001b[0;34m:\u001b[0m\u001b[0;34m\u001b[0m\u001b[0;34m\u001b[0m\u001b[0m\n",
      "\u001b[0;32m~/anaconda3/envs/machinelearning/lib/python3.8/site-packages/sklearn/linear_model/_logistic.py\u001b[0m in \u001b[0;36m_check_solver\u001b[0;34m(solver, penalty, dual)\u001b[0m\n\u001b[1;32m    442\u001b[0m \u001b[0;34m\u001b[0m\u001b[0m\n\u001b[1;32m    443\u001b[0m     \u001b[0;32mif\u001b[0m \u001b[0msolver\u001b[0m \u001b[0;32mnot\u001b[0m \u001b[0;32min\u001b[0m \u001b[0;34m[\u001b[0m\u001b[0;34m'liblinear'\u001b[0m\u001b[0;34m,\u001b[0m \u001b[0;34m'saga'\u001b[0m\u001b[0;34m]\u001b[0m \u001b[0;32mand\u001b[0m \u001b[0mpenalty\u001b[0m \u001b[0;32mnot\u001b[0m \u001b[0;32min\u001b[0m \u001b[0;34m(\u001b[0m\u001b[0;34m'l2'\u001b[0m\u001b[0;34m,\u001b[0m \u001b[0;34m'none'\u001b[0m\u001b[0;34m)\u001b[0m\u001b[0;34m:\u001b[0m\u001b[0;34m\u001b[0m\u001b[0;34m\u001b[0m\u001b[0m\n\u001b[0;32m--> 444\u001b[0;31m         raise ValueError(\"Solver %s supports only 'l2' or 'none' penalties, \"\n\u001b[0m\u001b[1;32m    445\u001b[0m                          \"got %s penalty.\" % (solver, penalty))\n\u001b[1;32m    446\u001b[0m     \u001b[0;32mif\u001b[0m \u001b[0msolver\u001b[0m \u001b[0;34m!=\u001b[0m \u001b[0;34m'liblinear'\u001b[0m \u001b[0;32mand\u001b[0m \u001b[0mdual\u001b[0m\u001b[0;34m:\u001b[0m\u001b[0;34m\u001b[0m\u001b[0;34m\u001b[0m\u001b[0m\n",
      "\u001b[0;31mValueError\u001b[0m: Solver lbfgs supports only 'l2' or 'none' penalties, got l1 penalty."
     ]
    }
   ],
   "source": [
    "def logreg_param_tune(input_set, output_set, test_set):\n",
    "    ''' Performs logistic regression on 784 feature data using the following parameters:\n",
    "    {\"C:1\", \"multi_class:\"ovr\", \"penalty\":\"l1\"}\n",
    "    \n",
    "    Args\n",
    "    ----\n",
    "    input_set: 784 feature set representing some form of shoeware\n",
    "    output_set: 1D array representing 0 (if image is a sneaker), or 1, if image is a sandal\n",
    "\n",
    "    \n",
    "    Returns\n",
    "    -------\n",
    "    stdout - yproba1_test.txt represents one probability value per line, per example in x_test.csv determining\n",
    "    the probability that a feature set represents a sneaker (class label = 0) or sandal (class label = 1)\n",
    "    \n",
    "    '''\n",
    "    log_reg = LogisticRegression(C=1, multi_class='ovr', penalty='l1')\n",
    "    log_reg.fit(input_set, output_set)\n",
    "    prob_float = log_reg.predict_proba(test_set)[:, 1]\n",
    "    np.savetxt('yproba1_test_param.txt', prob_float)\n",
    "    \n",
    "logreg_param_tune(x_tr_footwear, y_tr_footwear, x_te_footwear)"
   ]
  },
  {
   "cell_type": "code",
   "execution_count": null,
   "metadata": {},
   "outputs": [],
   "source": []
  }
 ],
 "metadata": {
  "kernelspec": {
   "display_name": "Python 3",
   "language": "python",
   "name": "python3"
  },
  "language_info": {
   "codemirror_mode": {
    "name": "ipython",
    "version": 3
   },
   "file_extension": ".py",
   "mimetype": "text/x-python",
   "name": "python",
   "nbconvert_exporter": "python",
   "pygments_lexer": "ipython3",
   "version": "3.8.1"
  }
 },
 "nbformat": 4,
 "nbformat_minor": 4
}
